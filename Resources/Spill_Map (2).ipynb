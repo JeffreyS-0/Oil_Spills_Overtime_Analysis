{
 "cells": [
  {
   "cell_type": "markdown",
   "id": "8e9265c1",
   "metadata": {},
   "source": [
    "# Department of Transportation - Oil Spill Mapping"
   ]
  },
  {
   "cell_type": "code",
   "execution_count": null,
   "id": "5a631dea",
   "metadata": {},
   "outputs": [],
   "source": [
    "# Dependencies and Setup\n",
    "import pandas as pd\n",
    "import requests\n",
    "import gmaps\n",
    "import openpyxl\n",
    "import folium\n",
    "import json\n",
    "import gmaps.datasets\n",
    "import numpy as np\n",
    "import re\n",
    "# from shapely.geometry import Point, Polygon\n",
    "# import geopandas as gpd\n",
    "# import descartes\n",
    "import matplotlib.pyplot as plt\n",
    "import plotly.graph_objects as go\n",
    "import geopandas\n",
    "\n",
    "%matplotlib inline\n",
    "%matplotlib notebook\n",
    "\n",
    "# Import API key\n",
    "from config import g_map\n",
    "\n",
    "# Configure gmaps\n",
    "gmaps.configure(api_key=g_map)"
   ]
  },
  {
   "cell_type": "markdown",
   "id": "782ae87d",
   "metadata": {},
   "source": [
    "## Bring in 2010 - Present Data"
   ]
  },
  {
   "cell_type": "code",
   "execution_count": null,
   "id": "3269eb87",
   "metadata": {},
   "outputs": [],
   "source": [
    "# 1. Read the Data_Columns_and_spills into a DataFrame. All sheets\n",
    "# Unedited excel files\n",
    "xlfile_2010 = pd.ExcelFile(\"../Resources/Data_columns_and_spills.xlsx\", engine='openpyxl')\n",
    "spill2010_df = xlfile_2010.parse('2010-Present') #'2010-Present' is the sheet name in the excel file\n",
    "#spill2010_df is all data all columns\n",
    "\n",
    "\n"
   ]
  },
  {
   "cell_type": "code",
   "execution_count": null,
   "id": "c1c668f8",
   "metadata": {},
   "outputs": [],
   "source": [
    "spill2010_df"
   ]
  },
  {
   "cell_type": "code",
   "execution_count": null,
   "id": "fc61639e",
   "metadata": {},
   "outputs": [],
   "source": [
    "spills = spill2010_df.to_dict('records')\n",
    "spills"
   ]
  },
  {
   "cell_type": "code",
   "execution_count": null,
   "id": "a6d86b50",
   "metadata": {},
   "outputs": [],
   "source": []
  },
  {
   "cell_type": "code",
   "execution_count": null,
   "id": "c07799a6",
   "metadata": {},
   "outputs": [],
   "source": [
    "# import pandas as pd\n",
    "# from shapely.geometry import Point\n",
    "# import geopandas as gpd\n",
    "# from geopandas import GeoDataFrame\n",
    "\n",
    "# geometry = [Point(xy) for xy in zip(latlong_df['LOCATION_LATITUDE'], latlong_df['LOCATION_LONGITUDE'])]\n",
    "# gdf = GeoDataFrame(latlong_df, geometry=geometry)   \n",
    "\n",
    "# #this is a simple map that goes with geopandas\n",
    "# world = gpd.read_file(gpd.datasets.get_path('naturalearth_lowres'))\n",
    "# gdf.plot(ax=world.plot(figsize=(10, 6)), marker='o', color='red', markersize=15);"
   ]
  },
  {
   "cell_type": "code",
   "execution_count": null,
   "id": "a1e6577d",
   "metadata": {},
   "outputs": [],
   "source": [
    "# formatting dataframe for mapping display. \n",
    "# Have to change datetime to string for json conversion\n",
    "spill2010_df[\"REPORT_RECEIVED_DATE\"] = spill2010_df[\"REPORT_RECEIVED_DATE\"].dt.strftime('%Y-%m-%d %H:%M:%S')\n",
    "spill2010_df[\"LOCAL_DATETIME\"] = spill2010_df[\"LOCAL_DATETIME\"].dt.strftime('%Y-%m-%d %H:%M:%S')\n",
    "spill2010_df[\"NRC_RPT_DATETIME\"] = spill2010_df[\"NRC_RPT_DATETIME\"].dt.strftime('%Y-%m-%d %H:%M:%S')\n",
    "spill2010_df[\"SHUTDOWN_DATETIME\"] = spill2010_df[\"SHUTDOWN_DATETIME\"].dt.strftime('%Y-%m-%d %H:%M:%S')\n",
    "spill2010_df[\"RESTART_DATETIME\"] = spill2010_df[\"RESTART_DATETIME\"].dt.strftime('%Y-%m-%d %H:%M:%S')\n",
    "spill2010_df[\"INCIDENT_IDENTIFIED_DATETIME\"] = spill2010_df[\"INCIDENT_IDENTIFIED_DATETIME\"].dt.strftime('%Y-%m-%d %H:%M:%S')\n",
    "spill2010_df[\"ON_SITE_DATETIME\"] = spill2010_df[\"ON_SITE_DATETIME\"].dt.strftime('%Y-%m-%d %H:%M:%S')\n",
    "spill2010_df[\"PREPARED_DATE\"] = spill2010_df[\"PREPARED_DATE\"].dt.strftime('%Y-%m-%d %H:%M:%S')\n",
    "# Creating additional columns of UNINTENTIONAL_RELEASE_BBLS and PRPTY as a string for popup but still need \n",
    "# UNINTENTIONAL_RELEASE_BBLS and PRPTY as float for plotting\n",
    "spill2010_df[\"UNINTENTIONAL_RELEASE_BBLS_STR\"] = spill2010_df[\"UNINTENTIONAL_RELEASE_BBLS\"].map(\"{:,.2f}\".format)\n",
    "spill2010_df[\"PRPTY_STR\"] = spill2010_df[\"PRPTY\"].map(\"${:,.0f}\".format)\n"
   ]
  },
  {
   "cell_type": "code",
   "execution_count": null,
   "id": "aa3907a2",
   "metadata": {},
   "outputs": [],
   "source": [
    "spill2010_df[\"COMPONENT_AGE(YEARS)\"] = (spill2010_df[\"IYEAR\"] - spill2010_df[\"INSTALLATION_YEAR\"]) + 1\n",
    "spill2010_df.head()"
   ]
  },
  {
   "cell_type": "markdown",
   "id": "d64ec34e",
   "metadata": {},
   "source": [
    "## Mapping 2010-Present Spills"
   ]
  },
  {
   "cell_type": "code",
   "execution_count": null,
   "id": "fd075614",
   "metadata": {},
   "outputs": [],
   "source": [
    "# Pulling useful columns for mapping purposes\n",
    "my_columns = [\n",
    "    'REPORT_NUMBER',\n",
    "    'NAME',\n",
    "    'LOCATION_LATITUDE',\n",
    "    'LOCATION_LONGITUDE',\n",
    "    'COMMODITY_RELEASED_TYPE',\n",
    "    'UNINTENTIONAL_RELEASE_BBLS',\n",
    "    'UNINTENTIONAL_RELEASE_BBLS_STR',\n",
    "    'ON_OFF_SHORE',\n",
    "    'ONSHORE_CITY_NAME',\n",
    "    'ONSHORE_COUNTY_NAME',\n",
    "    'ONSHORE_STATE_ABBREVIATION',\n",
    "    'SYSTEM_PART_INVOLVED',\n",
    "    'INSTALLATION_YEAR',\n",
    "    'COMPONENT_AGE(YEARS)',\n",
    "    'CAUSE',\n",
    "    'ACCIDENT_PSIG',\n",
    "    'MOP_PSIG',\n",
    "    'PRPTY',\n",
    "    'PRPTY_STR'\n",
    "]"
   ]
  },
  {
   "cell_type": "code",
   "execution_count": null,
   "id": "15c65495",
   "metadata": {},
   "outputs": [],
   "source": [
    "# mapping columns called info2010_df\n",
    "mapping_df = spill2010_df[my_columns]\n",
    "# Creating another dataframe of first 100 rows called 'test' t2010_df\n",
    "# Used to get map functioning and limiting API requests\n",
    "# t2010_df = info2010_df[:100]\n",
    "# t2010_df.to_json('test_df.json') # exports DataFrame to json for javascript and mapping functionality\n",
    "# t2010_df\n",
    "mapping_df"
   ]
  },
  {
   "cell_type": "code",
   "execution_count": null,
   "id": "8d48eae1",
   "metadata": {},
   "outputs": [],
   "source": [
    "# # Join lat and long into one column...might be easier for mapping json\n",
    "# t2010_df.isnull().sum(axis = 0)"
   ]
  },
  {
   "cell_type": "code",
   "execution_count": null,
   "id": "430bc141",
   "metadata": {},
   "outputs": [],
   "source": [
    "mapping_df = mapping_df.fillna('N/A')\n",
    "mapping_df"
   ]
  },
  {
   "cell_type": "code",
   "execution_count": null,
   "id": "871c75b6",
   "metadata": {},
   "outputs": [],
   "source": [
    "# dataframe to dictionary\n",
    "mapping_dict = mapping_df.to_dict('records')\n"
   ]
  },
  {
   "cell_type": "code",
   "execution_count": null,
   "id": "2cec2edf",
   "metadata": {},
   "outputs": [],
   "source": [
    "# making dict into easy to read json for JS array\n",
    "json_mapping = json.dumps(mapping_dict, indent = 4)\n",
    "print(json_mapping)"
   ]
  },
  {
   "cell_type": "code",
   "execution_count": null,
   "id": "23f776d6",
   "metadata": {},
   "outputs": [],
   "source": [
    "mapping_dict = mapping_df.to_dict('records')\n",
    "json_mapping = json.dumps(mapping_dict, indent = 4)\n",
    "with open('mapping.json','w') as data:\n",
    "    data.write(json_mapping)"
   ]
  },
  {
   "cell_type": "markdown",
   "id": "2a13f801",
   "metadata": {},
   "source": [
    "## Mapping 2010-Present 'info2010_df' spill locations ~4000 locations"
   ]
  },
  {
   "cell_type": "code",
   "execution_count": null,
   "id": "f9dff7d7",
   "metadata": {},
   "outputs": [],
   "source": [
    "info_box_template = \"\"\"\n",
    "<dl>\n",
    "<dt>Operator ID: </dt><dd>{OPERATOR_ID}</dd>\n",
    "<dt>City</dt><dd>{ONSHORE_CITY_NAME}</dd>\n",
    "<dt>State</dt><dd>{ONSHORE_STATE_ABBREVIATION}</dd>\n",
    "<dt>Spill Commodity</dt><dd>{COMMODITY_RELEASED_TYPE}</dd>\n",
    "<dt>Spill Volume (bbls)</dt><dd>{UNINTENTIONAL_RELEASE_BBLS}</dd>\n",
    "</dl>\n",
    "\n",
    "\"\"\"\n",
    "\n",
    "\n",
    "spill_info = [info_box_template.format(**row) for index, row in info2010_df.iterrows()]"
   ]
  },
  {
   "cell_type": "code",
   "execution_count": null,
   "id": "fe05f525",
   "metadata": {},
   "outputs": [],
   "source": [
    "# Create map from lat and long\n",
    "locations = info2010_df[[\"LOCATION_LATITUDE\",\"LOCATION_LONGITUDE\"]]\n",
    "spill = info2010_df[\"UNINTENTIONAL_RELEASE_BBLS\"]\n",
    "fig = gmaps.figure(center=(36, -97), zoom_level=4)\n",
    "heat_layer = gmaps.heatmap_layer(locations, weights=spill,dissipating=False,\n",
    "            max_intensity=30000, point_radius=2)\n",
    "marker_layer = gmaps.marker_layer(locations, info_box_content=spill_info)\n",
    "fig.add_layer(heat_layer)\n",
    "fig.add_layer(marker_layer)\n",
    "#Display the figure\n",
    "fig"
   ]
  },
  {
   "cell_type": "markdown",
   "id": "0c2f9557",
   "metadata": {},
   "source": [
    "## Add another map \n",
    "### Filtering only pipeline, corrosion failures\n",
    "### showing property damage instead of spill volume"
   ]
  },
  {
   "cell_type": "code",
   "execution_count": null,
   "id": "ad2c3b88",
   "metadata": {},
   "outputs": [],
   "source": [
    "my_columns = [\n",
    "    'REPORT_NUMBER',\n",
    "    'OPERATOR_ID',\n",
    "    'LOCATION_LATITUDE',\n",
    "    'LOCATION_LONGITUDE',\n",
    "    'COMMODITY_RELEASED_TYPE',\n",
    "    'UNINTENTIONAL_RELEASE_BBLS',\n",
    "    'ON_OFF_SHORE',\n",
    "    'ONSHORE_CITY_NAME',\n",
    "    'ONSHORE_COUNTY_NAME',\n",
    "    'ONSHORE_STATE_ABBREVIATION',\n",
    "    'SYSTEM_PART_INVOLVED',\n",
    "    'INSTALLATION_YEAR',\n",
    "    'CAUSE',\n",
    "    'PRPTY'\n",
    "    ]"
   ]
  },
  {
   "cell_type": "code",
   "execution_count": null,
   "id": "4a26b83d",
   "metadata": {},
   "outputs": [],
   "source": [
    "pipeline_df = spill2010_df[my_columns]\n",
    "pipeline_df"
   ]
  },
  {
   "cell_type": "code",
   "execution_count": null,
   "id": "a71d0956",
   "metadata": {},
   "outputs": [],
   "source": [
    "# # changing formatting of Property column to currency\n",
    "# pipeline_df['PRPTY'] = pipeline_df['PRPTY'].apply(lambda x: \"${:,.0f}\".format(x))\n",
    "# pipeline_df"
   ]
  },
  {
   "cell_type": "code",
   "execution_count": null,
   "id": "a76b1e6c",
   "metadata": {},
   "outputs": [],
   "source": [
    "# Filtering causes; showing only corrosion failure, material failure of pipe or weld and equipment failure.\n",
    "pipeline_df.loc[(pipeline_df[\"CAUSE\"] == \"CORROSION FAILURE\") & \n",
    "                       (pipeline_df[\"CAUSE\"] == \"MATERIAL FAILURE OF PIPE OR WELD\") &\n",
    "                       (pipeline_df[\"CAUSE\"] == \"EQUIPMENT FAILURE\")]\n",
    "pipeline_df"
   ]
  },
  {
   "cell_type": "code",
   "execution_count": null,
   "id": "16d228f0",
   "metadata": {},
   "outputs": [],
   "source": [
    "info_box_template = \"\"\"\n",
    "<dl>\n",
    "<dt>Operator ID: </dt><dd>{OPERATOR_ID}</dd>\n",
    "<dt>City</dt><dd>{ONSHORE_CITY_NAME}</dd>\n",
    "<dt>State</dt><dd>{ONSHORE_STATE_ABBREVIATION}</dd>\n",
    "<dt>Cause:</dt><dd>{CAUSE}</dd>\n",
    "<dt>Spill Commodity</dt><dd>{COMMODITY_RELEASED_TYPE}</dd>\n",
    "<dt>Spill Volume (bbls)</dt><dd>{UNINTENTIONAL_RELEASE_BBLS}</dd>\n",
    "<dt>Spill Cost</dt><dd>{PRPTY}</dd>\n",
    "</dl>\n",
    "\n",
    "\"\"\"\n",
    "\n",
    "# Using the pipeline_df to gather spill info for marker data...\n",
    "spill_info = [info_box_template.format(**row) for index, row in pipeline_df.iterrows()]"
   ]
  },
  {
   "cell_type": "code",
   "execution_count": null,
   "id": "65c9caf9",
   "metadata": {},
   "outputs": [],
   "source": [
    "# Create map from lat and long\n",
    "locations = pipeline_df[[\"LOCATION_LATITUDE\",\"LOCATION_LONGITUDE\"]]\n",
    "spill = pipeline_df[\"PRPTY\"]\n",
    "fig = gmaps.figure(center=(36, -97), zoom_level=4)\n",
    "heat_layer = gmaps.heatmap_layer(locations, weights=spill,dissipating=False,\n",
    "            max_intensity=1000000000, point_radius=2)\n",
    "marker_layer = gmaps.marker_layer(locations, info_box_content=spill_info)\n",
    "fig.add_layer(heat_layer)\n",
    "fig.add_layer(marker_layer)\n",
    "#Display the figure\n",
    "fig"
   ]
  },
  {
   "cell_type": "code",
   "execution_count": null,
   "id": "21f4d5dd",
   "metadata": {},
   "outputs": [],
   "source": []
  },
  {
   "cell_type": "code",
   "execution_count": null,
   "id": "c47bbcf9",
   "metadata": {},
   "outputs": [],
   "source": []
  },
  {
   "cell_type": "code",
   "execution_count": null,
   "id": "8420a2f7",
   "metadata": {},
   "outputs": [],
   "source": []
  },
  {
   "cell_type": "code",
   "execution_count": null,
   "id": "7a2e8d5f",
   "metadata": {},
   "outputs": [],
   "source": []
  }
 ],
 "metadata": {
  "kernelspec": {
   "display_name": "PythonData",
   "language": "python",
   "name": "pythondata"
  },
  "language_info": {
   "codemirror_mode": {
    "name": "ipython",
    "version": 3
   },
   "file_extension": ".py",
   "mimetype": "text/x-python",
   "name": "python",
   "nbconvert_exporter": "python",
   "pygments_lexer": "ipython3",
   "version": "3.7.10"
  }
 },
 "nbformat": 4,
 "nbformat_minor": 5
}
