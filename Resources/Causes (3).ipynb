{
 "cells": [
  {
   "cell_type": "markdown",
   "id": "8e9265c1",
   "metadata": {},
   "source": [
    "# Department of Transportation - Oil Spill Mapping"
   ]
  },
  {
   "cell_type": "code",
   "execution_count": null,
   "id": "5a631dea",
   "metadata": {},
   "outputs": [],
   "source": [
    "# Dependencies and Setup\n",
    "import pandas as pd\n",
    "import requests\n",
    "import gmaps\n",
    "import openpyxl\n",
    "import folium\n",
    "import json\n",
    "import gmaps.datasets\n",
    "import numpy as np\n",
    "import re\n",
    "from datetime import date, datetime\n",
    "from django.core.serializers.json import DjangoJSONEncoder\n",
    "from dataprep.clean import clean_lat_long\n",
    "from dataprep.clean import validate_lat_long\n",
    "# from shapely.geometry import Point, Polygon\n",
    "# import geopandas as gpd\n",
    "# import descartes\n",
    "import matplotlib.pyplot as plt\n",
    "import plotly.graph_objects as go\n",
    "import geopandas\n",
    "\n",
    "%matplotlib inline\n",
    "%matplotlib notebook\n",
    "\n",
    "# Import API key\n",
    "# from config import g_map\n",
    "\n",
    "# Configure gmaps\n",
    "# gmaps.configure(api_key=g_map)"
   ]
  },
  {
   "cell_type": "markdown",
   "id": "782ae87d",
   "metadata": {},
   "source": [
    "## Bring in 2010 - Present Data"
   ]
  },
  {
   "cell_type": "code",
   "execution_count": null,
   "id": "3269eb87",
   "metadata": {},
   "outputs": [],
   "source": [
    "# 1. Read the Data_Columns_and_spills into a DataFrame. All sheets\n",
    "# Unedited excel files\n",
    "xlfile_2010 = pd.ExcelFile(\"Resources/Data_columns_and_spills.xlsx\", engine='openpyxl')\n",
    "spill2010_df = xlfile_2010.parse('2010-Present') #'2010-Present' is the sheet name in the excel file\n",
    "#spill2010_df is all data all columns"
   ]
  },
  {
   "cell_type": "code",
   "execution_count": null,
   "id": "eef9a3b6",
   "metadata": {},
   "outputs": [],
   "source": [
    "spill2010_df.dtypes\n"
   ]
  },
  {
   "cell_type": "code",
   "execution_count": null,
   "id": "4ee34579",
   "metadata": {},
   "outputs": [],
   "source": [
    "# formatting dataframe for mapping display. \n",
    "# Have to change datetime to string for json conversion\n",
    "spill2010_df[\"REPORT_RECEIVED_DATE\"] = spill2010_df[\"REPORT_RECEIVED_DATE\"].dt.strftime('%Y-%m-%d %H:%M:%S')\n",
    "spill2010_df[\"LOCAL_DATETIME\"] = spill2010_df[\"LOCAL_DATETIME\"].dt.strftime('%Y-%m-%d %H:%M:%S')\n",
    "spill2010_df[\"NRC_RPT_DATETIME\"] = spill2010_df[\"NRC_RPT_DATETIME\"].dt.strftime('%Y-%m-%d %H:%M:%S')\n",
    "spill2010_df[\"SHUTDOWN_DATETIME\"] = spill2010_df[\"SHUTDOWN_DATETIME\"].dt.strftime('%Y-%m-%d %H:%M:%S')\n",
    "spill2010_df[\"RESTART_DATETIME\"] = spill2010_df[\"RESTART_DATETIME\"].dt.strftime('%Y-%m-%d %H:%M:%S')\n",
    "spill2010_df[\"INCIDENT_IDENTIFIED_DATETIME\"] = spill2010_df[\"INCIDENT_IDENTIFIED_DATETIME\"].dt.strftime('%Y-%m-%d %H:%M:%S')\n",
    "spill2010_df[\"ON_SITE_DATETIME\"] = spill2010_df[\"ON_SITE_DATETIME\"].dt.strftime('%Y-%m-%d %H:%M:%S')\n",
    "spill2010_df[\"PREPARED_DATE\"] = spill2010_df[\"PREPARED_DATE\"].dt.strftime('%Y-%m-%d %H:%M:%S')\n",
    "# Creating additional columns of UNINTENTIONAL_RELEASE_BBLS and PRPTY as a string for popup but still need \n",
    "# UNINTENTIONAL_RELEASE_BBLS and PRPTY as float for plotting\n",
    "spill2010_df[\"UNINTENTIONAL_RELEASE_BBLS_STR\"] = spill2010_df[\"UNINTENTIONAL_RELEASE_BBLS\"].map(\"{:,.2f}\".format)\n",
    "spill2010_df[\"PRPTY_STR\"] = spill2010_df[\"PRPTY\"].map(\"${:,.0f}\".format)\n",
    "\n"
   ]
  },
  {
   "cell_type": "code",
   "execution_count": null,
   "id": "3cf18420",
   "metadata": {},
   "outputs": [],
   "source": [
    "spill2010_df[\"COMPONENT_AGE(YEARS)\"] = (spill2010_df[\"IYEAR\"] - spill2010_df[\"INSTALLATION_YEAR\"]) + 1\n",
    "spill2010_df.head()"
   ]
  },
  {
   "cell_type": "code",
   "execution_count": null,
   "id": "fa28aa2f",
   "metadata": {},
   "outputs": [],
   "source": [
    "pipeline_file = pipeline_file.dropna(subset=[\"LONGITUDE\"])"
   ]
  },
  {
   "cell_type": "code",
   "execution_count": null,
   "id": "79dde409",
   "metadata": {},
   "outputs": [],
   "source": [
    "pipeline_new = clean_lat_long(pipeline_file, lat_col=\"LATITUDE\", long_col=\"LONGITUDE\", split=False)\n",
    "pipeline_new"
   ]
  },
  {
   "cell_type": "code",
   "execution_count": null,
   "id": "e821e570",
   "metadata": {},
   "outputs": [],
   "source": []
  },
  {
   "cell_type": "code",
   "execution_count": null,
   "id": "a709c4ce",
   "metadata": {},
   "outputs": [],
   "source": [
    "# Component age histrogram\n",
    "plt.hist(spill2010_df['COMPONENT_AGE(YEARS)'], 20)"
   ]
  },
  {
   "cell_type": "code",
   "execution_count": null,
   "id": "20ee554d",
   "metadata": {},
   "outputs": [],
   "source": []
  },
  {
   "cell_type": "code",
   "execution_count": null,
   "id": "def23a8e",
   "metadata": {},
   "outputs": [],
   "source": [
    "plt.hist(spill2010_df['PRPTY'], 20)"
   ]
  },
  {
   "cell_type": "code",
   "execution_count": null,
   "id": "4df4a00e",
   "metadata": {},
   "outputs": [],
   "source": [
    "# Pulling useful columns for mapping purposes\n",
    "my_columns = [\n",
    "    'REPORT_NUMBER',\n",
    "    'NAME',\n",
    "    'LOCATION_LATITUDE',\n",
    "    'LOCATION_LONGITUDE',\n",
    "    'COMMODITY_RELEASED_TYPE',\n",
    "    'UNINTENTIONAL_RELEASE_BBLS',\n",
    "    'UNINTENTIONAL_RELEASE_BBLS_STR',\n",
    "    'ON_OFF_SHORE',\n",
    "    'ONSHORE_CITY_NAME',\n",
    "    'ONSHORE_COUNTY_NAME',\n",
    "    'ONSHORE_STATE_ABBREVIATION',\n",
    "    'SYSTEM_PART_INVOLVED',\n",
    "    'INSTALLATION_YEAR',\n",
    "    'COMPONENT_AGE(YEARS)',\n",
    "    'CAUSE',\n",
    "    'ACCIDENT_PSIG',\n",
    "    'MOP_PSIG',\n",
    "    'PRPTY',\n",
    "    'PRPTY_STR'\n",
    "]"
   ]
  },
  {
   "cell_type": "code",
   "execution_count": null,
   "id": "fc69d874",
   "metadata": {},
   "outputs": [],
   "source": [
    "# mapping columns called info2010_df\n",
    "mapping_df = spill2010_df[my_columns]\n",
    "# Creating another dataframe of first 100 rows called 'test' t2010_df\n",
    "# Used to get map functioning and limiting API requests\n",
    "# t2010_df = info2010_df[:100]\n",
    "# t2010_df.to_json('test_df.json') # exports DataFrame to json for javascript and mapping functionality\n",
    "# t2010_df\n",
    "mapping_df"
   ]
  },
  {
   "cell_type": "code",
   "execution_count": null,
   "id": "12216ad1",
   "metadata": {},
   "outputs": [],
   "source": [
    "mapping_df = mapping_df.fillna('N/A')\n",
    "mapping_df"
   ]
  },
  {
   "cell_type": "code",
   "execution_count": null,
   "id": "ffea2362",
   "metadata": {},
   "outputs": [],
   "source": [
    "mapping_dict = mapping_df.to_dict('records')\n",
    "json_mapping = json.dumps(mapping_dict, indent = 4)\n",
    "with open('mapping.json','w') as data:\n",
    "    data.write(json_mapping)"
   ]
  },
  {
   "cell_type": "code",
   "execution_count": null,
   "id": "1a862d0f",
   "metadata": {},
   "outputs": [],
   "source": []
  },
  {
   "cell_type": "code",
   "execution_count": null,
   "id": "66b0ddd5",
   "metadata": {},
   "outputs": [],
   "source": []
  },
  {
   "cell_type": "code",
   "execution_count": null,
   "id": "2eb24d0a",
   "metadata": {},
   "outputs": [],
   "source": [
    "corrosion_df = mapping_df.loc[(mapping_df[\"CAUSE\"] == \"CORROSION FAILURE\")]\n",
    "corrosion_dict = corrosion_df.to_dict('records')\n",
    "json_corrosion = json.dumps(corrosion_dict, indent = 4)\n",
    "with open('corrosion.json','w') as data:\n",
    "    data.write(json_corrosion)\n",
    "    \n",
    "corrosion_df.head(5)\n",
    "\n"
   ]
  },
  {
   "cell_type": "code",
   "execution_count": null,
   "id": "a1223d2e",
   "metadata": {},
   "outputs": [],
   "source": [
    "equipfail_df = mapping_df.loc[(mapping_df[\"CAUSE\"] == \"EQUIPMENT FAILURE\")]\n",
    "equipfail_dict = equipfail_df.to_dict('records')\n",
    "json_equipfail = json.dumps(equipfail_dict, indent = 4)\n",
    "with open('equipfail.json','w') as data:\n",
    "    data.write(json_equipfail)\n",
    "    \n",
    "equipfail_df.head(5)\n"
   ]
  },
  {
   "cell_type": "code",
   "execution_count": null,
   "id": "fff21bcf",
   "metadata": {},
   "outputs": [],
   "source": [
    "excavation_df = mapping_df.loc[(mapping_df[\"CAUSE\"] == \"EXCAVATION DAMAGE\")]\n",
    "excavation_dict = excavation_df.to_dict('records')\n",
    "json_excavation = json.dumps(excavation_dict, indent = 4)\n",
    "with open('excavation.json','w') as data:\n",
    "    data.write(json_excavation)\n",
    "excavation_df.head(5)"
   ]
  },
  {
   "cell_type": "code",
   "execution_count": null,
   "id": "cf206c9a",
   "metadata": {},
   "outputs": [],
   "source": [
    "incorrect_df = mapping_df.loc[(mapping_df[\"CAUSE\"] == \"INCORRECT OPERATION\")]\n",
    "incorrect_dict = incorrect_df.to_dict('records')\n",
    "json_incorrect = json.dumps(incorrect_dict, indent = 4)\n",
    "with open('incorrect.json','w') as data:\n",
    "    data.write(json_incorrect)\n",
    "incorrect_df.head(5)"
   ]
  },
  {
   "cell_type": "code",
   "execution_count": null,
   "id": "716f2852",
   "metadata": {},
   "outputs": [],
   "source": [
    "matfail_df = mapping_df.loc[(mapping_df[\"CAUSE\"] == \"MATERIAL FAILURE OF PIPE OR WELD\")]\n",
    "matfail_dict = matfail_df.to_dict('records')\n",
    "json_matfail = json.dumps(matfail_dict, indent = 4)\n",
    "with open('matfail.json','w') as data:\n",
    "    data.write(json_matfail)\n",
    "matfail_df.head(5)"
   ]
  },
  {
   "cell_type": "code",
   "execution_count": null,
   "id": "d5b3daeb",
   "metadata": {},
   "outputs": [],
   "source": [
    "natforce_df = mapping_df.loc[(mapping_df[\"CAUSE\"] == \"NATURAL FORCE DAMAGE\")]\n",
    "natforce_dict = natforce_df.to_dict('records')\n",
    "json_natforce = json.dumps(natforce_dict, indent = 4)\n",
    "with open('natforce.json','w') as data:\n",
    "    data.write(json_natforce)\n",
    "natforce_df.head(5)"
   ]
  },
  {
   "cell_type": "code",
   "execution_count": null,
   "id": "7cb8cecd",
   "metadata": {},
   "outputs": [],
   "source": [
    "otherincd_df = mapping_df.loc[(mapping_df[\"CAUSE\"] == \"OTHER INCIDENT CAUSE\")]\n",
    "otherincd_dict = otherincd_df.to_dict('records')\n",
    "json_otherincd = json.dumps(otherincd_dict, indent = 4)\n",
    "with open('otherincd.json','w') as data:\n",
    "    data.write(json_otherincd)\n",
    "otherincd_df.head(5)"
   ]
  },
  {
   "cell_type": "code",
   "execution_count": null,
   "id": "9863c19a",
   "metadata": {},
   "outputs": [],
   "source": [
    "otherforce_df = mapping_df.loc[(mapping_df[\"CAUSE\"] == \"OTHER OUTSIDE FORCE DAMAGE\")]\n",
    "otherforce_dict = otherforce_df.to_dict('records')\n",
    "json_otherforce = json.dumps(otherforce_dict, indent = 4)\n",
    "with open('otherforce.json','w') as data:\n",
    "    data.write(json_otherforce)\n",
    "otherforce_df.head(5)"
   ]
  }
 ],
 "metadata": {
  "kernelspec": {
   "display_name": "PythonData",
   "language": "python",
   "name": "pythondata"
  },
  "language_info": {
   "codemirror_mode": {
    "name": "ipython",
    "version": 3
   },
   "file_extension": ".py",
   "mimetype": "text/x-python",
   "name": "python",
   "nbconvert_exporter": "python",
   "pygments_lexer": "ipython3",
   "version": "3.7.10"
  }
 },
 "nbformat": 4,
 "nbformat_minor": 5
}
